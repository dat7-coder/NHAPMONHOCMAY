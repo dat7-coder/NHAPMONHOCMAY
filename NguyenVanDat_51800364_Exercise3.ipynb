{
  "nbformat": 4,
  "nbformat_minor": 0,
  "metadata": {
    "colab": {
      "name": "51800364_NguyenVanDat_classExercise3.ipynb",
      "provenance": []
    },
    "kernelspec": {
      "name": "python3",
      "display_name": "Python 3"
    },
    "language_info": {
      "name": "python"
    }
  },
  "cells": [
    {
      "cell_type": "code",
      "metadata": {
        "id": "I5kEqeMvjK48"
      },
      "source": [
        "import pandas as pd \n",
        "import numpy as np "
      ],
      "execution_count": null,
      "outputs": []
    },
    {
      "cell_type": "code",
      "metadata": {
        "colab": {
          "base_uri": "https://localhost:8080/"
        },
        "id": "-5ue3eqajMSW",
        "outputId": "7aaff7e0-8ec4-4bc2-9cc2-c31547a805bd"
      },
      "source": [
        "dataframe = pd.read_csv(\"https://archive.ics.uci.edu/ml/machine-learning-databases/adult/adult.data\")\n",
        "print(dataframe.shape)\n",
        "# chuyển data về dạng numpy \n",
        "print(dataframe.head(5))"
      ],
      "execution_count": null,
      "outputs": [
        {
          "output_type": "stream",
          "name": "stdout",
          "text": [
            "(32560, 15)\n",
            "   39          State-gov   77516   Bachelors  ...   0  40   United-States   <=50K\n",
            "0  50   Self-emp-not-inc   83311   Bachelors  ...   0  13   United-States   <=50K\n",
            "1  38            Private  215646     HS-grad  ...   0  40   United-States   <=50K\n",
            "2  53            Private  234721        11th  ...   0  40   United-States   <=50K\n",
            "3  28            Private  338409   Bachelors  ...   0  40            Cuba   <=50K\n",
            "4  37            Private  284582     Masters  ...   0  40   United-States   <=50K\n",
            "\n",
            "[5 rows x 15 columns]\n"
          ]
        }
      ]
    },
    {
      "cell_type": "code",
      "metadata": {
        "colab": {
          "base_uri": "https://localhost:8080/"
        },
        "id": "5OyJCaWFxzll",
        "outputId": "2a8e5dc4-c7a0-44e4-dae8-61e5f051bbff"
      },
      "source": [
        "from sklearn.preprocessing import LabelEncoder\n",
        "\n",
        "LE = LabelEncoder()\n",
        "dataframe[' United-States'] = LE.fit_transform(dataframe[' United-States'])\n",
        "print(dataframe)"
      ],
      "execution_count": null,
      "outputs": [
        {
          "output_type": "stream",
          "name": "stdout",
          "text": [
            "       39          State-gov   77516  ...  40   United-States   <=50K\n",
            "0      50   Self-emp-not-inc   83311  ...  13              39   <=50K\n",
            "1      38            Private  215646  ...  40              39   <=50K\n",
            "2      53            Private  234721  ...  40              39   <=50K\n",
            "3      28            Private  338409  ...  40               5   <=50K\n",
            "4      37            Private  284582  ...  40              39   <=50K\n",
            "...    ..                ...     ...  ...  ..             ...     ...\n",
            "32555  27            Private  257302  ...  38              39   <=50K\n",
            "32556  40            Private  154374  ...  40              39    >50K\n",
            "32557  58            Private  151910  ...  40              39   <=50K\n",
            "32558  22            Private  201490  ...  20              39   <=50K\n",
            "32559  52       Self-emp-inc  287927  ...  40              39    >50K\n",
            "\n",
            "[32560 rows x 15 columns]\n"
          ]
        }
      ]
    },
    {
      "cell_type": "code",
      "metadata": {
        "id": "9_elsY7d0HEE"
      },
      "source": [
        "# chuyển data về dạng numpy \n",
        "data = dataframe.values"
      ],
      "execution_count": null,
      "outputs": []
    },
    {
      "cell_type": "code",
      "metadata": {
        "colab": {
          "base_uri": "https://localhost:8080/"
        },
        "id": "7j5gypHXjt9W",
        "outputId": "45314422-586e-4fec-edb9-3715f3a5e012"
      },
      "source": [
        "a = dataframe.loc[:,['39',' 77516',' 0',' 40',' United-States']]\n",
        "X = a.values\n",
        "print(X.shape)\n",
        "print(X)"
      ],
      "execution_count": 57,
      "outputs": [
        {
          "output_type": "stream",
          "name": "stdout",
          "text": [
            "(32560, 5)\n",
            "[[    50  83311      0     13     39]\n",
            " [    38 215646      0     40     39]\n",
            " [    53 234721      0     40     39]\n",
            " ...\n",
            " [    58 151910      0     40     39]\n",
            " [    22 201490      0     20     39]\n",
            " [    52 287927      0     40     39]]\n"
          ]
        }
      ]
    },
    {
      "cell_type": "code",
      "metadata": {
        "colab": {
          "base_uri": "https://localhost:8080/"
        },
        "id": "6YBoSgSaw7e2",
        "outputId": "7f3b53c0-6aea-45e6-aee7-093b27e98e13"
      },
      "source": [
        "y = data[:,-1]\n",
        "y.ravel()\n",
        "print(y.shape)\n",
        "print(y)"
      ],
      "execution_count": 58,
      "outputs": [
        {
          "output_type": "stream",
          "name": "stdout",
          "text": [
            "(32560,)\n",
            "[' <=50K' ' <=50K' ' <=50K' ... ' <=50K' ' <=50K' ' >50K']\n"
          ]
        }
      ]
    },
    {
      "cell_type": "code",
      "metadata": {
        "colab": {
          "base_uri": "https://localhost:8080/"
        },
        "id": "GX1ojimjxVcn",
        "outputId": "985b7c72-fef1-4424-9b68-91fec71d3b9c"
      },
      "source": [
        "from sklearn.model_selection import train_test_split\n",
        "X_train, X_test, y_train, y_test = train_test_split(\\\n",
        "    X, y, test_size=0.2, random_state=42)\n",
        "\n",
        "print('Train:')\n",
        "print(X_train.shape)\n",
        "print(y_train.shape)\n",
        "print('Test:')\n",
        "print(X_test.shape)\n",
        "print(y_test.shape)"
      ],
      "execution_count": 60,
      "outputs": [
        {
          "output_type": "stream",
          "name": "stdout",
          "text": [
            "Train:\n",
            "(26048, 5)\n",
            "(26048,)\n",
            "Test:\n",
            "(6512, 5)\n",
            "(6512,)\n"
          ]
        }
      ]
    },
    {
      "cell_type": "code",
      "metadata": {
        "colab": {
          "base_uri": "https://localhost:8080/"
        },
        "id": "tIJAfEct0dR1",
        "outputId": "34951b55-0311-4e31-ae13-21f058e34ba9"
      },
      "source": [
        "from sklearn.neighbors import KNeighborsClassifier\n",
        "model = KNeighborsClassifier(n_neighbors=3)\n",
        "# training process\n",
        "model.fit(X_train, y_train)"
      ],
      "execution_count": 61,
      "outputs": [
        {
          "output_type": "execute_result",
          "data": {
            "text/plain": [
              "KNeighborsClassifier(algorithm='auto', leaf_size=30, metric='minkowski',\n",
              "                     metric_params=None, n_jobs=None, n_neighbors=3, p=2,\n",
              "                     weights='uniform')"
            ]
          },
          "metadata": {},
          "execution_count": 61
        }
      ]
    },
    {
      "cell_type": "code",
      "metadata": {
        "id": "SkwnuUl31GFD"
      },
      "source": [
        "y_pred = model.predict(X_test)"
      ],
      "execution_count": 62,
      "outputs": []
    },
    {
      "cell_type": "code",
      "metadata": {
        "colab": {
          "base_uri": "https://localhost:8080/"
        },
        "id": "klWe6zDg1Wg7",
        "outputId": "9e5e09ee-f7bc-42e9-ba3c-3b09e23c9f72"
      },
      "source": [
        "from sklearn.metrics import classification_report\n",
        "print(classification_report(y_test,y_pred))"
      ],
      "execution_count": 63,
      "outputs": [
        {
          "output_type": "stream",
          "name": "stdout",
          "text": [
            "              precision    recall  f1-score   support\n",
            "\n",
            "       <=50K       0.79      0.85      0.82      4912\n",
            "        >50K       0.38      0.29      0.33      1600\n",
            "\n",
            "    accuracy                           0.71      6512\n",
            "   macro avg       0.58      0.57      0.57      6512\n",
            "weighted avg       0.69      0.71      0.70      6512\n",
            "\n"
          ]
        }
      ]
    },
    {
      "cell_type": "code",
      "metadata": {
        "colab": {
          "base_uri": "https://localhost:8080/"
        },
        "id": "4uQ8H9M31Ze8",
        "outputId": "ed0195bb-776d-4d9b-f44b-6f84222158ad"
      },
      "source": [
        "from sklearn.metrics import confusion_matrix\n",
        "confusion_matrix(y_test,y_pred)"
      ],
      "execution_count": 64,
      "outputs": [
        {
          "output_type": "execute_result",
          "data": {
            "text/plain": [
              "array([[4174,  738],\n",
              "       [1143,  457]])"
            ]
          },
          "metadata": {},
          "execution_count": 64
        }
      ]
    }
  ]
}