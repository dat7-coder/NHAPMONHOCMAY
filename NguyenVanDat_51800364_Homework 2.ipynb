{
  "nbformat": 4,
  "nbformat_minor": 0,
  "metadata": {
    "colab": {
      "name": "NguyenVanDat_51800364_Exercise1.ipynb",
      "provenance": []
    },
    "kernelspec": {
      "name": "python3",
      "display_name": "Python 3"
    },
    "language_info": {
      "name": "python"
    }
  },
  "cells": [
    {
      "cell_type": "markdown",
      "metadata": {
        "id": "-yaVMw5envQo"
      },
      "source": [
        "1. Python program to interchange first and last elements in a list"
      ]
    },
    {
      "cell_type": "code",
      "metadata": {
        "colab": {
          "base_uri": "https://localhost:8080/"
        },
        "id": "0JJ013YrnJJW",
        "outputId": "e1cd1129-fa0d-4b7a-9f35-a14bb0effac1"
      },
      "source": [
        "def swapList(newList):\n",
        "    size = len(newList)\n",
        "     \n",
        "    # Swapping\n",
        "    temp = newList[0]\n",
        "    newList[0] = newList[size - 1]\n",
        "    newList[size - 1] = temp\n",
        "     \n",
        "    return newList\n",
        "     \n",
        "myList = [7, 35, 49, 42, 21]\n",
        " \n",
        "print(swapList(myList))"
      ],
      "execution_count": 1,
      "outputs": [
        {
          "output_type": "stream",
          "name": "stdout",
          "text": [
            "[21, 35, 49, 42, 7]\n"
          ]
        }
      ]
    },
    {
      "cell_type": "markdown",
      "metadata": {
        "id": "V2A_r8Cdn-YQ"
      },
      "source": [
        "2. Maximum of two numbers in Python"
      ]
    },
    {
      "cell_type": "code",
      "metadata": {
        "colab": {
          "base_uri": "https://localhost:8080/"
        },
        "id": "pGWQPCtioKZV",
        "outputId": "a9daf424-d1f9-4e2c-c778-27e3c1303499"
      },
      "source": [
        "def maximum(a, b):\n",
        "     \n",
        "    if a >= b:\n",
        "        return a\n",
        "    else:\n",
        "        return b\n",
        "     \n",
        "a = 3\n",
        "b = 7\n",
        "print(maximum(a, b))"
      ],
      "execution_count": 2,
      "outputs": [
        {
          "output_type": "stream",
          "name": "stdout",
          "text": [
            "7\n"
          ]
        }
      ]
    },
    {
      "cell_type": "markdown",
      "metadata": {
        "id": "rzdkfNVAobBH"
      },
      "source": [
        "3. Reversing a List in Python"
      ]
    },
    {
      "cell_type": "code",
      "metadata": {
        "colab": {
          "base_uri": "https://localhost:8080/"
        },
        "id": "GIK4CP1TooO9",
        "outputId": "abf83539-a788-4c03-d679-32167438c1a3"
      },
      "source": [
        "def Reverse(lst):\n",
        "    return [ele for ele in reversed(lst)]\n",
        "      \n",
        "lst = [10, 11, 12, 13, 14, 15]\n",
        "print(Reverse(lst))"
      ],
      "execution_count": 3,
      "outputs": [
        {
          "output_type": "stream",
          "name": "stdout",
          "text": [
            "[15, 14, 13, 12, 11, 10]\n"
          ]
        }
      ]
    },
    {
      "cell_type": "markdown",
      "metadata": {
        "id": "SUILHhXcoyYH"
      },
      "source": [
        "4. Python program to find smallest number in a list"
      ]
    },
    {
      "cell_type": "code",
      "metadata": {
        "colab": {
          "base_uri": "https://localhost:8080/"
        },
        "id": "EmD4SQuho-nC",
        "outputId": "a92c8235-2df1-430e-ae7e-45e65025395f"
      },
      "source": [
        "list1 = [10, 20, 4, 45, 99]\n",
        " \n",
        "list1.sort()\n",
        " \n",
        "print(\"Smallest element is:\", *list1[:1])"
      ],
      "execution_count": 4,
      "outputs": [
        {
          "output_type": "stream",
          "name": "stdout",
          "text": [
            "Smallest element is: 4\n"
          ]
        }
      ]
    },
    {
      "cell_type": "code",
      "metadata": {
        "colab": {
          "base_uri": "https://localhost:8080/"
        },
        "id": "Ey5n5fDlpHq_",
        "outputId": "d5b67d97-e933-4cb8-be14-f900a9a34ac8"
      },
      "source": [
        "list1 = [10, 20, 1, 45, 99]\n",
        "\n",
        "print(\"Smallest element is:\", min(list1))"
      ],
      "execution_count": 5,
      "outputs": [
        {
          "output_type": "stream",
          "name": "stdout",
          "text": [
            "Smallest element is: 1\n"
          ]
        }
      ]
    },
    {
      "cell_type": "markdown",
      "metadata": {
        "id": "4_jndazupLFn"
      },
      "source": [
        "5. Python program to find second largest number in a list"
      ]
    },
    {
      "cell_type": "code",
      "metadata": {
        "colab": {
          "base_uri": "https://localhost:8080/"
        },
        "id": "B2iT5BLtpOyV",
        "outputId": "bfe8b9e7-e10d-4d97-ec7e-11f630f39919"
      },
      "source": [
        "list1 = [10, 20, 4, 45, 99]\n",
        " \n",
        "mx=max(list1[0],list1[1])\n",
        "secondmax=min(list1[0],list1[1])\n",
        "n =len(list1)\n",
        "for i in range(2,n):\n",
        "    if list1[i]>mx:\n",
        "        secondmax=mx\n",
        "        mx=list1[i]\n",
        "    elif list1[i]>secondmax and \\\n",
        "        mx != list1[i]:\n",
        "        secondmax=list1[i]\n",
        " \n",
        "print(\"Second highest number is : \",\\\n",
        "      str(secondmax))"
      ],
      "execution_count": null,
      "outputs": [
        {
          "output_type": "stream",
          "name": "stdout",
          "text": [
            "Second highest number is :  45\n"
          ]
        }
      ]
    },
    {
      "cell_type": "markdown",
      "metadata": {
        "id": "D0ig2ztnpVuQ"
      },
      "source": [
        "6. Uncommon elements in Lists of List"
      ]
    },
    {
      "cell_type": "code",
      "metadata": {
        "colab": {
          "base_uri": "https://localhost:8080/"
        },
        "id": "8Qq1RYjJpoUv",
        "outputId": "324da4b0-7ddb-42a9-836c-a6476a92a2fd"
      },
      "source": [
        "myList1 = [ [1, 2], [3, 4], [5, 6] ]\n",
        "myList2 = [ [3, 4], [5, 7], [1, 2] ]\n",
        " \n",
        "print (\"The original list 1 : \" + str(myList1))\n",
        "print (\"The original list 2 : \" + str(myList2))\n",
        " \n",
        "res_list = []\n",
        "for i in myList1:\n",
        "    if i not in myList2:\n",
        "        res_list.append(i)\n",
        "for i in myList2:\n",
        "    if i not in myList1:\n",
        "        res_list.append(i)\n",
        "         \n",
        "print (\"The uncommon of two lists is : \" + str(res_list))"
      ],
      "execution_count": 6,
      "outputs": [
        {
          "output_type": "stream",
          "name": "stdout",
          "text": [
            "The original list 1 : [[1, 2], [3, 4], [5, 6]]\n",
            "The original list 2 : [[3, 4], [5, 7], [1, 2]]\n",
            "The uncommon of two lists is : [[5, 6], [5, 7]]\n"
          ]
        }
      ]
    },
    {
      "cell_type": "markdown",
      "metadata": {
        "id": "7Lz8uEVwprg_"
      },
      "source": [
        "7. Count unique values inside a list"
      ]
    },
    {
      "cell_type": "code",
      "metadata": {
        "colab": {
          "base_uri": "https://localhost:8080/"
        },
        "id": "WSfHBrLGp1fI",
        "outputId": "23e1124c-226a-44a5-d79a-de6eb9d55932"
      },
      "source": [
        "from collections import Counter\n",
        "  \n",
        "  \n",
        "input_list = [1, 2, 2, 5, 8, 4, 4, 8]\n",
        "  \n",
        "items = Counter(input_list).keys()\n",
        "print(\"No of unique items in the list are:\", len(items))"
      ],
      "execution_count": 7,
      "outputs": [
        {
          "output_type": "stream",
          "name": "stdout",
          "text": [
            "No of unique items in the list are: 5\n"
          ]
        }
      ]
    },
    {
      "cell_type": "markdown",
      "metadata": {
        "id": "9FelOsCMqDCu"
      },
      "source": [
        "8. Python program to print all odd numbers in a range\n"
      ]
    },
    {
      "cell_type": "code",
      "metadata": {
        "colab": {
          "base_uri": "https://localhost:8080/"
        },
        "id": "9Qf1XUyDqc6I",
        "outputId": "fd0b3cee-7217-4d1e-bdb9-023908610cfa"
      },
      "source": [
        "start, end = 4, 19\n",
        "  \n",
        "for num in range(start, end + 1):\n",
        "      \n",
        "    if num % 2 != 0:\n",
        "        print(num, end = \" \")"
      ],
      "execution_count": 8,
      "outputs": [
        {
          "output_type": "stream",
          "name": "stdout",
          "text": [
            "5 7 9 11 13 15 17 19 "
          ]
        }
      ]
    },
    {
      "cell_type": "markdown",
      "metadata": {
        "id": "hUxNwVWIq1C_"
      },
      "source": [
        "9. Python program to print positive numbers in a list"
      ]
    },
    {
      "cell_type": "code",
      "metadata": {
        "colab": {
          "base_uri": "https://localhost:8080/"
        },
        "id": "WEPUmoK7q7G1",
        "outputId": "c97b14f3-e7d2-4a5b-fab9-f4c87f269ff5"
      },
      "source": [
        "list1 = [11, -21, 0, 45, 66, -93]\n",
        "  \n",
        "for num in list1:\n",
        "      \n",
        "    if num >= 0:\n",
        "       print(num, end = \" \")"
      ],
      "execution_count": 9,
      "outputs": [
        {
          "output_type": "stream",
          "name": "stdout",
          "text": [
            "11 0 45 66 "
          ]
        }
      ]
    },
    {
      "cell_type": "markdown",
      "metadata": {
        "id": "8fF6FOdMq_iQ"
      },
      "source": [
        "10. Remove multiple elements from a list in Python (odd)"
      ]
    },
    {
      "cell_type": "code",
      "metadata": {
        "colab": {
          "base_uri": "https://localhost:8080/"
        },
        "id": "1uKKcI-YrN5r",
        "outputId": "0de450af-0040-497a-a1a4-60d1ef8494fe"
      },
      "source": [
        "list1 = [11, 5, 17, 18, 23, 50]\n",
        "\n",
        "for ele in list1:\n",
        "    if ele % 2 == 0:\n",
        "        list1.remove(ele)\n",
        " \n",
        "print(\"New list after removing all even numbers: \", list1)"
      ],
      "execution_count": 11,
      "outputs": [
        {
          "output_type": "stream",
          "name": "stdout",
          "text": [
            "New list after removing all even numbers:  [11, 5, 17, 23]\n"
          ]
        }
      ]
    },
    {
      "cell_type": "markdown",
      "metadata": {
        "id": "7hDZ9f3NakpS"
      },
      "source": [
        "11. Test if Substring occurs in specific position"
      ]
    },
    {
      "cell_type": "code",
      "metadata": {
        "colab": {
          "base_uri": "https://localhost:8080/"
        },
        "id": "tIOhZ_cbazu8",
        "outputId": "ba162fdf-119f-4637-d123-4c1285918643"
      },
      "source": [
        "string = \"Ton Duc Thang University\"\n",
        " \n",
        "print(\"The original string is : \" + string)\n",
        "   \n",
        "i, j = 4, 7\n",
        "  \n",
        "substr = \"Duc\"\n",
        "\n",
        "# Using loop\n",
        "flag = True\n",
        "k = 0\n",
        "for index in range(len(string)):\n",
        "    if index >= i  and index < j:\n",
        "        if string[index] != substr[k]:\n",
        "            flag = False\n",
        "            break\n",
        "        k = k + 1\n",
        "          \n",
        "print(\"Does string contain substring at required position ?\")          \n",
        "print(flag)"
      ],
      "execution_count": null,
      "outputs": [
        {
          "output_type": "stream",
          "name": "stdout",
          "text": [
            "The original string is : Ton Duc Thang University\n",
            "Does string contain substring at required position ?\n",
            "True\n"
          ]
        }
      ]
    },
    {
      "cell_type": "markdown",
      "metadata": {
        "id": "bgTfxb7kdUG5"
      },
      "source": [
        "12. Extract words starting with K in String List"
      ]
    },
    {
      "cell_type": "code",
      "metadata": {
        "colab": {
          "base_uri": "https://localhost:8080/"
        },
        "id": "TH3dveEqe2RC",
        "outputId": "e2df6711-81d6-4525-cbe5-a6f74784533a"
      },
      "source": [
        "myList = [\"You are a doctor\", \"We are family\", \"animal world\"] \n",
        "  \n",
        "print(\"The original list is : \", end='')\n",
        "print(myList)\n",
        "K = \"a\"\n",
        "  \n",
        "res = []\n",
        "for sub in myList:\n",
        "    # splitting phrases\n",
        "    temp = sub.split()\n",
        "    for ele in temp:\n",
        "        if ele[0].lower() == K.lower():\n",
        "            res.append(ele)\n",
        "  \n",
        "# printing result \n",
        "print(\"The filtered elements : \",end='') \n",
        "print(res)"
      ],
      "execution_count": null,
      "outputs": [
        {
          "output_type": "stream",
          "name": "stdout",
          "text": [
            "The original list is : ['You are a doctor', 'We are family', 'animal world']\n",
            "The filtered elements : ['are', 'a', 'are', 'animal']\n"
          ]
        }
      ]
    },
    {
      "cell_type": "markdown",
      "metadata": {
        "id": "AK6uwK0ciwiH"
      },
      "source": [
        "13. Find sum and average of List in Python"
      ]
    },
    {
      "cell_type": "code",
      "metadata": {
        "colab": {
          "base_uri": "https://localhost:8080/"
        },
        "id": "ph9LI6XbHAxw",
        "outputId": "9724454e-1834-48cf-a32d-4b0b748ee794"
      },
      "source": [
        "myList = [4, 5, 1, 2, 9, 7, 10, 8]\n",
        "\n",
        "count = 0\n",
        "  \n",
        "for i in myList:\n",
        "    count += i\n",
        "\n",
        "avg = count/len(myList)\n",
        "  \n",
        "print(\"sum = \", count)\n",
        "print(\"average = \", avg)"
      ],
      "execution_count": null,
      "outputs": [
        {
          "output_type": "stream",
          "name": "stdout",
          "text": [
            "sum =  46\n",
            "average =  5.75\n"
          ]
        }
      ]
    },
    {
      "cell_type": "markdown",
      "metadata": {
        "id": "cvL71AJPHP-w"
      },
      "source": [
        "14. Python program to find largest number in a list"
      ]
    },
    {
      "cell_type": "code",
      "metadata": {
        "colab": {
          "base_uri": "https://localhost:8080/"
        },
        "id": "j8ZnQzewHVGT",
        "outputId": "cb8e4f8c-6a4f-444f-844c-f55327e1fae9"
      },
      "source": [
        "myList = [4, 5, 1, 2, 9, 7, 10, 8]\n",
        "\n",
        "max = myList[1]\n",
        "\n",
        "for i in myList:\n",
        "    if i > max:   max = i\n",
        "\n",
        "print(\"Largest element is: \", max)"
      ],
      "execution_count": null,
      "outputs": [
        {
          "output_type": "stream",
          "name": "stdout",
          "text": [
            "Largest element is:  10\n"
          ]
        }
      ]
    },
    {
      "cell_type": "markdown",
      "metadata": {
        "id": "gdN_60eIH4Qh"
      },
      "source": [
        "15. Python program to print all even numbers in a range"
      ]
    },
    {
      "cell_type": "code",
      "metadata": {
        "colab": {
          "base_uri": "https://localhost:8080/"
        },
        "id": "9x6CjE1kH7-y",
        "outputId": "03bc17c7-875b-41a2-bb37-7a45fe441a35"
      },
      "source": [
        "start, end = 7, 21\n",
        "\n",
        "for i in range(start, end + 1):\n",
        "    if i % 2 == 0:\n",
        "        print(i,end=', ')"
      ],
      "execution_count": null,
      "outputs": [
        {
          "output_type": "stream",
          "name": "stdout",
          "text": [
            "8, 10, 12, 14, 16, 18, 20, "
          ]
        }
      ]
    },
    {
      "cell_type": "markdown",
      "metadata": {
        "id": "amBHMxY3IY2_"
      },
      "source": [
        "16. Python program to print duplicates from a list of integers"
      ]
    },
    {
      "cell_type": "code",
      "metadata": {
        "colab": {
          "base_uri": "https://localhost:8080/"
        },
        "id": "1GMxYi9IJTh_",
        "outputId": "663b6a08-5919-4529-d697-e29434a8abe9"
      },
      "source": [
        "myList = [10, 20, 30, 20, 20, 30, 40, 50, -20, 60, 60, -20, -20]\n",
        "\n",
        "repeat = []\n",
        "\n",
        "for i in range(len(myList)):\n",
        "    for j in range(i+1,len(myList)):\n",
        "        if myList[i] == myList[j] and myList[i] not in repeat:\n",
        "            repeat.append(myList[i])\n",
        "print(repeat)"
      ],
      "execution_count": null,
      "outputs": [
        {
          "output_type": "stream",
          "name": "stdout",
          "text": [
            "[20, 30, -20, 60]\n"
          ]
        }
      ]
    },
    {
      "cell_type": "markdown",
      "metadata": {
        "id": "RxmmwSOIKZm_"
      },
      "source": [
        "17. Python – Reverse Row sort in Lists of List"
      ]
    },
    {
      "cell_type": "code",
      "metadata": {
        "colab": {
          "base_uri": "https://localhost:8080/"
        },
        "id": "HBJWAfKpK21-",
        "outputId": "80fa98c7-60b3-4b42-8a4f-93f81ed1a6dc"
      },
      "source": [
        "myList = [[4, 1, 6], [7, 8], [4, 10, 8]]\n",
        "  \n",
        "print (\"The original list is : \" + str(myList))\n",
        "  \n",
        "for ele in myList: \n",
        "    ele.sort(reverse = True) \n",
        "  \n",
        "print (\"The reverse sorted Matrix is : \" + str(myList))"
      ],
      "execution_count": null,
      "outputs": [
        {
          "output_type": "stream",
          "name": "stdout",
          "text": [
            "The original list is : [[4, 1, 6], [7, 8], [4, 10, 8]]\n",
            "The reverse sorted Matrix is : [[6, 4, 1], [8, 7], [10, 8, 4]]\n"
          ]
        }
      ]
    },
    {
      "cell_type": "markdown",
      "metadata": {
        "id": "1LuqcTLOP5mF"
      },
      "source": [
        "18. Test if List contains elements in Range"
      ]
    },
    {
      "cell_type": "code",
      "metadata": {
        "colab": {
          "base_uri": "https://localhost:8080/"
        },
        "id": "vMWFCJO1ShIH",
        "outputId": "c9a5ffd7-08f8-496b-ac36-2e3ca0d8460f"
      },
      "source": [
        "myList = [4, 5, 6, 7, 3, 9, 11]\n",
        "  \n",
        "print(\"The original list is : \" + str(myList))\n",
        "\n",
        "i, j = 3, 10\n",
        "\n",
        "res = True\n",
        "for ele in myList:\n",
        "    if ele < i or ele >= j :\n",
        "        res = False \n",
        "        break\n",
        "  \n",
        "print (\"Does list contain all elements in range : \" + str(res))"
      ],
      "execution_count": null,
      "outputs": [
        {
          "output_type": "stream",
          "name": "stdout",
          "text": [
            "The original list is : [4, 5, 6, 7, 3, 9, 11]\n",
            "Does list contain all elements in range : False\n"
          ]
        }
      ]
    },
    {
      "cell_type": "markdown",
      "metadata": {
        "id": "e-hjCTJLSxNb"
      },
      "source": [
        "19. Python Program to find all Possible Combinations from the three Digits"
      ]
    },
    {
      "cell_type": "code",
      "metadata": {
        "colab": {
          "base_uri": "https://localhost:8080/"
        },
        "id": "aWFmAW7ES31D",
        "outputId": "71db7c64-08ec-46f6-f780-91a5bffadd1b"
      },
      "source": [
        "def comb(L):\n",
        "    output = []\n",
        "    for i in range(3):\n",
        "        for j in range(3):\n",
        "            for k in range(3):\n",
        "                if (i!=j and j!=k and i!=k):\n",
        "                    output.append([L[i], L[j], L[k]])\n",
        "    for i in output:\n",
        "        print(i)\n",
        "                      \n",
        "comb([1, 2, 3])"
      ],
      "execution_count": null,
      "outputs": [
        {
          "output_type": "stream",
          "name": "stdout",
          "text": [
            "[1, 2, 3]\n",
            "[1, 3, 2]\n",
            "[2, 1, 3]\n",
            "[2, 3, 1]\n",
            "[3, 1, 2]\n",
            "[3, 2, 1]\n"
          ]
        }
      ]
    },
    {
      "cell_type": "markdown",
      "metadata": {
        "id": "E1YFx1IOTbkL"
      },
      "source": [
        "20. Python program to get all unique combinations of two Lists"
      ]
    },
    {
      "cell_type": "code",
      "metadata": {
        "colab": {
          "base_uri": "https://localhost:8080/"
        },
        "id": "UhuJ4SeeTm8N",
        "outputId": "53da37b8-72ba-4990-9ba6-00beda059780"
      },
      "source": [
        "import itertools\n",
        "from itertools import product\n",
        " \n",
        "list_1 = [\"a\",\"b\",\"c\"]\n",
        "list_2 = [1,4,9]\n",
        " \n",
        "unique_combinations = []\n",
        "\n",
        "unique_combinations = list(list(zip(list_1, element))\n",
        "                           for element in product(list_2, repeat = len(list_1)))\n",
        " \n",
        "print(unique_combinations)"
      ],
      "execution_count": null,
      "outputs": [
        {
          "output_type": "stream",
          "name": "stdout",
          "text": [
            "[[('a', 1), ('b', 1), ('c', 1)], [('a', 1), ('b', 1), ('c', 4)], [('a', 1), ('b', 1), ('c', 9)], [('a', 1), ('b', 4), ('c', 1)], [('a', 1), ('b', 4), ('c', 4)], [('a', 1), ('b', 4), ('c', 9)], [('a', 1), ('b', 9), ('c', 1)], [('a', 1), ('b', 9), ('c', 4)], [('a', 1), ('b', 9), ('c', 9)], [('a', 4), ('b', 1), ('c', 1)], [('a', 4), ('b', 1), ('c', 4)], [('a', 4), ('b', 1), ('c', 9)], [('a', 4), ('b', 4), ('c', 1)], [('a', 4), ('b', 4), ('c', 4)], [('a', 4), ('b', 4), ('c', 9)], [('a', 4), ('b', 9), ('c', 1)], [('a', 4), ('b', 9), ('c', 4)], [('a', 4), ('b', 9), ('c', 9)], [('a', 9), ('b', 1), ('c', 1)], [('a', 9), ('b', 1), ('c', 4)], [('a', 9), ('b', 1), ('c', 9)], [('a', 9), ('b', 4), ('c', 1)], [('a', 9), ('b', 4), ('c', 4)], [('a', 9), ('b', 4), ('c', 9)], [('a', 9), ('b', 9), ('c', 1)], [('a', 9), ('b', 9), ('c', 4)], [('a', 9), ('b', 9), ('c', 9)]]\n"
          ]
        }
      ]
    }
  ]
}