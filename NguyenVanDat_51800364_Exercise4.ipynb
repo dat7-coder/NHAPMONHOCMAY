{
  "nbformat": 4,
  "nbformat_minor": 0,
  "metadata": {
    "kernelspec": {
      "display_name": "Python 3",
      "language": "python",
      "name": "python3"
    },
    "language_info": {
      "codemirror_mode": {
        "name": "ipython",
        "version": 3
      },
      "file_extension": ".py",
      "mimetype": "text/x-python",
      "name": "python",
      "nbconvert_exporter": "python",
      "pygments_lexer": "ipython3",
      "version": "3.9.1"
    },
    "colab": {
      "name": "51800364_NguyenVanDat_classEx4.ipynb",
      "provenance": [],
      "collapsed_sections": []
    }
  },
  "cells": [
    {
      "cell_type": "code",
      "metadata": {
        "id": "RGECuw5X06Qm"
      },
      "source": [
        "import numpy as np\n",
        "import pandas as pd"
      ],
      "execution_count": null,
      "outputs": []
    },
    {
      "cell_type": "code",
      "metadata": {
        "colab": {
          "base_uri": "https://localhost:8080/"
        },
        "id": "zhDq4_EV06Qx",
        "outputId": "05a11121-9986-4809-f8ab-b88eb2fb2eff"
      },
      "source": [
        "filename = 'computer.csv'\n",
        "df = pd.read_csv(filename)\n",
        "print(df.shape)\n",
        "print(df)"
      ],
      "execution_count": 101,
      "outputs": [
        {
          "output_type": "stream",
          "name": "stdout",
          "text": [
            "(14, 5)\n",
            "       Age  Income Student Credit_rating  Buy\n",
            "0     30<=    high      no          fair   no\n",
            "1     30<=    high      no     excellent   no\n",
            "2   31..40    high      no          fair  yes\n",
            "3      40>  medium     yes          fair  yes\n",
            "4      40>     low     yes          fair  yes\n",
            "5      40>     low     yes     excellent   no\n",
            "6   31..40     low      no     excellent  yes\n",
            "7     30<=  medium      no          fair   no\n",
            "8     30<=     low     yes          fair  yes\n",
            "9      40>  medium     yes          fair  yes\n",
            "10    30<=  medium     yes     excellent  yes\n",
            "11  31..40  medium      no     excellent  yes\n",
            "12  31..40    high     yes          fair  yes\n",
            "13     40>  medium      no     excellent   no\n"
          ]
        }
      ]
    },
    {
      "cell_type": "code",
      "metadata": {
        "colab": {
          "base_uri": "https://localhost:8080/"
        },
        "id": "Cr5S6Yc206Q1",
        "outputId": "9ca9486a-8010-4a94-dfba-9e219d8c7537"
      },
      "source": [
        "X = df.values[:,:-1]\n",
        "y = df.values[:,-1]\n",
        "print(X)\n",
        "print(y)"
      ],
      "execution_count": 102,
      "outputs": [
        {
          "output_type": "stream",
          "name": "stdout",
          "text": [
            "[['30<=' 'high' 'no' 'fair']\n",
            " ['30<=' 'high' 'no' 'excellent']\n",
            " ['31..40' 'high' 'no' 'fair']\n",
            " ['40>' 'medium' 'yes' 'fair']\n",
            " ['40>' 'low' 'yes' 'fair']\n",
            " ['40>' 'low' 'yes' 'excellent']\n",
            " ['31..40' 'low' 'no' 'excellent']\n",
            " ['30<=' 'medium' 'no' 'fair']\n",
            " ['30<=' 'low' 'yes' 'fair']\n",
            " ['40>' 'medium' 'yes' 'fair']\n",
            " ['30<=' 'medium' 'yes' 'excellent']\n",
            " ['31..40' 'medium' 'no' 'excellent']\n",
            " ['31..40' 'high' 'yes' 'fair']\n",
            " ['40>' 'medium' 'no' 'excellent']]\n",
            "['no' 'no' 'yes' 'yes' 'yes' 'no' 'yes' 'no' 'yes' 'yes' 'yes' 'yes' 'yes'\n",
            " 'no']\n"
          ]
        }
      ]
    },
    {
      "cell_type": "code",
      "metadata": {
        "colab": {
          "base_uri": "https://localhost:8080/"
        },
        "id": "9CDn_tKfCF0b",
        "outputId": "306cb2b3-d001-4341-8eed-9c4ac593c49e"
      },
      "source": [
        "df = df.head(12)\n",
        "print(df)"
      ],
      "execution_count": 103,
      "outputs": [
        {
          "output_type": "stream",
          "name": "stdout",
          "text": [
            "       Age  Income Student Credit_rating  Buy\n",
            "0     30<=    high      no          fair   no\n",
            "1     30<=    high      no     excellent   no\n",
            "2   31..40    high      no          fair  yes\n",
            "3      40>  medium     yes          fair  yes\n",
            "4      40>     low     yes          fair  yes\n",
            "5      40>     low     yes     excellent   no\n",
            "6   31..40     low      no     excellent  yes\n",
            "7     30<=  medium      no          fair   no\n",
            "8     30<=     low     yes          fair  yes\n",
            "9      40>  medium     yes          fair  yes\n",
            "10    30<=  medium     yes     excellent  yes\n",
            "11  31..40  medium      no     excellent  yes\n"
          ]
        }
      ]
    },
    {
      "cell_type": "code",
      "metadata": {
        "colab": {
          "base_uri": "https://localhost:8080/"
        },
        "id": "tTt2MhXP_IOk",
        "outputId": "2eb4b645-ab70-4173-d04f-8f1132e7a003"
      },
      "source": [
        "p_yesno = df.groupby(\"Buy\").size().div(len(df))\n",
        "print(p_yesno.no)\n",
        "print(p_yesno.yes)"
      ],
      "execution_count": 104,
      "outputs": [
        {
          "output_type": "stream",
          "name": "stdout",
          "text": [
            "0.3333333333333333\n",
            "0.6666666666666666\n"
          ]
        }
      ]
    },
    {
      "cell_type": "code",
      "metadata": {
        "colab": {
          "base_uri": "https://localhost:8080/"
        },
        "id": "wYlX59pqCUfr",
        "outputId": "9ea6470f-e554-4634-d8b2-f06417b8403d"
      },
      "source": [
        "likelihood = {}\n",
        "likelihood['Credit_rating'] = df.groupby(['Buy', 'Credit_rating']).size().div(len(df)).div(p_yesno)\n",
        "likelihood['Age'] = df.groupby(['Buy', 'Age']).size().div(len(df)).div(p_yesno)\n",
        "likelihood['Income'] = df.groupby(['Buy', 'Income']).size().div(len(df)).div(p_yesno)\n",
        "likelihood['Student'] = df.groupby(['Buy', 'Student']).size().div(len(df)).div(p_yesno)\n",
        "\n",
        "print (likelihood)"
      ],
      "execution_count": 105,
      "outputs": [
        {
          "output_type": "stream",
          "name": "stdout",
          "text": [
            "{'Credit_rating': Buy  Credit_rating\n",
            "no   excellent        0.500\n",
            "     fair             0.500\n",
            "yes  excellent        0.375\n",
            "     fair             0.625\n",
            "dtype: float64, 'Age': Buy  Age   \n",
            "no   30<=      0.750\n",
            "     40>       0.250\n",
            "yes  30<=      0.250\n",
            "     31..40    0.375\n",
            "     40>       0.375\n",
            "dtype: float64, 'Income': Buy  Income\n",
            "no   high      0.500\n",
            "     low       0.250\n",
            "     medium    0.250\n",
            "yes  high      0.125\n",
            "     low       0.375\n",
            "     medium    0.500\n",
            "dtype: float64, 'Student': Buy  Student\n",
            "no   no         0.750\n",
            "     yes        0.250\n",
            "yes  no         0.375\n",
            "     yes        0.625\n",
            "dtype: float64}\n"
          ]
        }
      ]
    },
    {
      "cell_type": "code",
      "metadata": {
        "colab": {
          "base_uri": "https://localhost:8080/"
        },
        "id": "sxXyLDizFtFo",
        "outputId": "b9fd509d-d1bc-4208-d6ea-66b3e0190ac2"
      },
      "source": [
        "p_yes = likelihood['Age']['yes']['40>'] * likelihood['Income']['yes']['medium'] * \\\n",
        "        likelihood['Student']['yes']['no'] * likelihood['Credit_rating']['yes']['excellent'] \\\n",
        "        * p_yesno['yes']\n",
        "\n",
        "p_no = likelihood['Age']['no']['40>'] * likelihood['Income']['no']['medium'] * \\\n",
        "       likelihood['Student']['no']['no'] * likelihood['Credit_rating']['no']['excellent'] \\\n",
        "       * p_yesno['no']\n",
        "print(p_yes)\n",
        "print(p_no)"
      ],
      "execution_count": 106,
      "outputs": [
        {
          "output_type": "stream",
          "name": "stdout",
          "text": [
            "0.017578125\n",
            "0.0078125\n"
          ]
        }
      ]
    }
  ]
}