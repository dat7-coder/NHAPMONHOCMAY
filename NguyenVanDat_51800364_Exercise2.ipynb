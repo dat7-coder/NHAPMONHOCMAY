{
  "nbformat": 4,
  "nbformat_minor": 0,
  "metadata": {
    "colab": {
      "name": "K-Nearest-Neighbors algorithm.ipynb",
      "provenance": []
    },
    "kernelspec": {
      "name": "python3",
      "display_name": "Python 3"
    },
    "language_info": {
      "name": "python"
    }
  },
  "cells": [
    {
      "cell_type": "markdown",
      "metadata": {
        "id": "kRlnkdR3j2pC"
      },
      "source": [
        "**Euclidean**"
      ]
    },
    {
      "cell_type": "code",
      "metadata": {
        "id": "Pkf_A4ETfWTI"
      },
      "source": [
        "Height = [5,5.11,5.6,5.9,4.8,5.8,5.3,5.8,5.5,5.6]\n",
        "Age = [45,26,30,34,40,36,19,28,23,32]\n",
        "Weight = [77,47,55,59,72,60,40,60,45,58]\n",
        "label = ['H','L','M','M','H','M','L','M','L','M']\n",
        "# cho điểm test \n",
        "test_a1=5.5\n",
        "test_a2=38"
      ],
      "execution_count": 16,
      "outputs": []
    },
    {
      "cell_type": "code",
      "metadata": {
        "id": "J2NCrGqbforD"
      },
      "source": [
        "#Tính khoảng cách\n",
        "import math\n",
        "\n",
        "def get_distance(test_a1,test_a2,x,y):\n",
        "    distance = []\n",
        "    for i in range(len(x)):\n",
        "        dis = math.sqrt((x[i]-test_a1)**2 + (y[i]-test_a2)**2)\n",
        "        distance.append(dis)\n",
        "    return distance"
      ],
      "execution_count": 17,
      "outputs": []
    },
    {
      "cell_type": "code",
      "metadata": {
        "colab": {
          "base_uri": "https://localhost:8080/"
        },
        "id": "yqPG6snwhTCK",
        "outputId": "cbea9abf-015e-417b-a945-f950428a95fb"
      },
      "source": [
        "distance = get_distance(test_a1, test_a2, Height, Age)\n",
        "for i in range(len(distance)):\n",
        "    print(distance[i],end=' ')\n",
        "    print(label[i])"
      ],
      "execution_count": 18,
      "outputs": [
        {
          "output_type": "stream",
          "name": "stdout",
          "text": [
            "7.0178344238090995 H\n",
            "12.006335827387138 L\n",
            "8.000624975587845 M\n",
            "4.019950248448356 M\n",
            "2.118962010041709 H\n",
            "2.0223748416156684 M\n",
            "19.001052602421794 L\n",
            "10.004498987955369 M\n",
            "15.0 L\n",
            "6.000833275470999 M\n"
          ]
        }
      ]
    },
    {
      "cell_type": "code",
      "metadata": {
        "colab": {
          "base_uri": "https://localhost:8080/"
        },
        "id": "6kLYyeXsiXCD",
        "outputId": "3783ef4b-085f-4c64-b530-b4fd574be83a"
      },
      "source": [
        "import numpy as np\n",
        "idx = np.argsort(distance)\n",
        "print(idx)\n",
        "k = 3\n",
        "k_idx = idx[:k]\n",
        "print(k_idx)\n",
        "for i in k_idx:\n",
        "    print(label[i],end=' ')"
      ],
      "execution_count": 19,
      "outputs": [
        {
          "output_type": "stream",
          "name": "stdout",
          "text": [
            "[5 4 3 9 0 2 7 1 8 6]\n",
            "[5 4 3]\n",
            "M H M "
          ]
        }
      ]
    },
    {
      "cell_type": "markdown",
      "metadata": {
        "id": "FUHZd-eAj8Ci"
      },
      "source": [
        "**Manhattan**"
      ]
    },
    {
      "cell_type": "code",
      "metadata": {
        "id": "tkGRgZ5Oj96q"
      },
      "source": [
        "def get_distance_manhattan(test_a1,test_a2,x,y):\n",
        "    distance = []\n",
        "    for i in range(len(x)):\n",
        "        dis = abs(x[i]-test_a1) + abs(y[i]-test_a2)\n",
        "        distance.append(dis)\n",
        "    return distance"
      ],
      "execution_count": 20,
      "outputs": []
    },
    {
      "cell_type": "code",
      "metadata": {
        "colab": {
          "base_uri": "https://localhost:8080/"
        },
        "id": "a2QxXtK0kowB",
        "outputId": "63cc7b72-2802-4e47-bb88-eb3b41138fc6"
      },
      "source": [
        "distance_m = get_distance_manhattan(test_a1, test_a2, Height, Age)\n",
        "for i in range(len(distance_m)):\n",
        "    print(distance_m[i],end=' ')\n",
        "    print(label[i])"
      ],
      "execution_count": 21,
      "outputs": [
        {
          "output_type": "stream",
          "name": "stdout",
          "text": [
            "7.5 H\n",
            "12.39 L\n",
            "8.1 M\n",
            "4.4 M\n",
            "2.7 H\n",
            "2.3 M\n",
            "19.2 L\n",
            "10.3 M\n",
            "15.0 L\n",
            "6.1 M\n"
          ]
        }
      ]
    },
    {
      "cell_type": "code",
      "metadata": {
        "colab": {
          "base_uri": "https://localhost:8080/"
        },
        "id": "ij2Jjxjkkq8Z",
        "outputId": "695c22c0-553f-400c-f633-8a3c4d8487db"
      },
      "source": [
        "idx = np.argsort(distance_m)\n",
        "print(idx)\n",
        "k = 3\n",
        "k_idx = idx[:k]\n",
        "print(k_idx)\n",
        "for i in k_idx:\n",
        "    print(label[i],end=' ')"
      ],
      "execution_count": 32,
      "outputs": [
        {
          "output_type": "stream",
          "name": "stdout",
          "text": [
            "[5 4 3 9 0 2 7 1 8 6]\n",
            "[5 4 3]\n",
            "M H M "
          ]
        }
      ]
    },
    {
      "cell_type": "markdown",
      "metadata": {
        "id": "JoiNNdZSltGB"
      },
      "source": [
        "**Find Weight**"
      ]
    },
    {
      "cell_type": "code",
      "metadata": {
        "colab": {
          "base_uri": "https://localhost:8080/"
        },
        "id": "DSkXHAjel18g",
        "outputId": "5f57c91a-2cf2-4c43-e2bd-592a53171efa"
      },
      "source": [
        "s=0\n",
        "for i in k_idx:\n",
        "    s+=Weight[i]\n",
        "print(\"Guess Weight with k = 3: \", s/k)    "
      ],
      "execution_count": 33,
      "outputs": [
        {
          "output_type": "stream",
          "name": "stdout",
          "text": [
            "Guess Weight with k = 3:  63.666666666666664\n"
          ]
        }
      ]
    },
    {
      "cell_type": "markdown",
      "metadata": {
        "id": "q8nPMc7KqLmz"
      },
      "source": [
        "**Tóm tắt**\n",
        "\n",
        "\n",
        "```\n",
        "Khoảng cách Euclidean: Khoảng cách 2 điểm theo trục thẳng.\n",
        "```\n",
        "```\n",
        "Khoảng cách Manhattan: Khoảng cách giữa hai điểm đo dọc theo trục vuông góc. \n",
        "```\n",
        "```\n",
        "Khi dự liệu cần dự đoán khổng phải label cần sử dụng trung bình cộng.\n",
        "```\n",
        "```\n",
        "KNN được áp dụng vào 2 loại của bài toán Supervised Learning (Classification và Regression).\n",
        "```\n",
        "```\n",
        "Là một thuật toán Instance-based\n",
        "```"
      ]
    }
  ]
}