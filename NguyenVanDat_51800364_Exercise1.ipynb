{
  "nbformat": 4,
  "nbformat_minor": 0,
  "metadata": {
    "colab": {
      "name": "NguyenVanDat_51800364_Exercise1.ipynb",
      "provenance": []
    },
    "kernelspec": {
      "name": "python3",
      "display_name": "Python 3"
    },
    "language_info": {
      "name": "python"
    }
  },
  "cells": [
    {
      "cell_type": "markdown",
      "metadata": {
        "id": "-yaVMw5envQo"
      },
      "source": [
        "1. Python program to interchange first and last elements in a list"
      ]
    },
    {
      "cell_type": "code",
      "metadata": {
        "colab": {
          "base_uri": "https://localhost:8080/"
        },
        "id": "0JJ013YrnJJW",
        "outputId": "19e87400-f715-4c56-c220-67e37a8af323"
      },
      "source": [
        "# Swap function\n",
        "def swapList(newList):\n",
        "    size = len(newList)\n",
        "     \n",
        "    # Swapping\n",
        "    temp = newList[0]\n",
        "    newList[0] = newList[size - 1]\n",
        "    newList[size - 1] = temp\n",
        "     \n",
        "    return newList\n",
        "     \n",
        "# Driver code\n",
        "newList = [7, 35, 49, 42, 21]\n",
        " \n",
        "print(swapList(newList))"
      ],
      "execution_count": 1,
      "outputs": [
        {
          "output_type": "stream",
          "name": "stdout",
          "text": [
            "[21, 35, 49, 42, 7]\n"
          ]
        }
      ]
    },
    {
      "cell_type": "markdown",
      "metadata": {
        "id": "V2A_r8Cdn-YQ"
      },
      "source": [
        "2. Maximum of two numbers in Python"
      ]
    },
    {
      "cell_type": "code",
      "metadata": {
        "colab": {
          "base_uri": "https://localhost:8080/"
        },
        "id": "pGWQPCtioKZV",
        "outputId": "8545d282-cae4-4b0b-8da7-b55cc4a40c7e"
      },
      "source": [
        "def maximum(a, b):\n",
        "     \n",
        "    if a >= b:\n",
        "        return a\n",
        "    else:\n",
        "        return b\n",
        "     \n",
        "# Driver code\n",
        "a = 3\n",
        "b = 7\n",
        "print(maximum(a, b))"
      ],
      "execution_count": 3,
      "outputs": [
        {
          "output_type": "stream",
          "name": "stdout",
          "text": [
            "7\n"
          ]
        }
      ]
    },
    {
      "cell_type": "markdown",
      "metadata": {
        "id": "rzdkfNVAobBH"
      },
      "source": [
        "3. Reversing a List in Python"
      ]
    },
    {
      "cell_type": "code",
      "metadata": {
        "colab": {
          "base_uri": "https://localhost:8080/"
        },
        "id": "GIK4CP1TooO9",
        "outputId": "cd7ca2ba-32c7-4404-b1d3-1082413d071e"
      },
      "source": [
        "# Reversing a list using reversed()\n",
        "def Reverse(lst):\n",
        "    return [ele for ele in reversed(lst)]\n",
        "      \n",
        "# Driver Code\n",
        "lst = [10, 11, 12, 13, 14, 15]\n",
        "print(Reverse(lst))"
      ],
      "execution_count": 4,
      "outputs": [
        {
          "output_type": "stream",
          "name": "stdout",
          "text": [
            "[15, 14, 13, 12, 11, 10]\n"
          ]
        }
      ]
    },
    {
      "cell_type": "markdown",
      "metadata": {
        "id": "SUILHhXcoyYH"
      },
      "source": [
        "4. Python program to find smallest number in a list"
      ]
    },
    {
      "cell_type": "code",
      "metadata": {
        "colab": {
          "base_uri": "https://localhost:8080/"
        },
        "id": "EmD4SQuho-nC",
        "outputId": "e4a41d8c-e92e-4247-c137-3f4844ac0502"
      },
      "source": [
        "# list of numbers\n",
        "list1 = [10, 20, 4, 45, 99]\n",
        " \n",
        "# sorting the list\n",
        "list1.sort()\n",
        " \n",
        "# printing the first element\n",
        "print(\"Smallest element is:\", *list1[:1])"
      ],
      "execution_count": 5,
      "outputs": [
        {
          "output_type": "stream",
          "name": "stdout",
          "text": [
            "Smallest element is: 4\n"
          ]
        }
      ]
    },
    {
      "cell_type": "code",
      "metadata": {
        "colab": {
          "base_uri": "https://localhost:8080/"
        },
        "id": "Ey5n5fDlpHq_",
        "outputId": "a45f775f-3951-4160-b0db-8937e8bc5f6a"
      },
      "source": [
        "# list of numbers\n",
        "list1 = [10, 20, 1, 45, 99]\n",
        " \n",
        " \n",
        "# printing the maximum element\n",
        "print(\"Smallest element is:\", min(list1))"
      ],
      "execution_count": 6,
      "outputs": [
        {
          "output_type": "stream",
          "name": "stdout",
          "text": [
            "Smallest element is: 1\n"
          ]
        }
      ]
    },
    {
      "cell_type": "markdown",
      "metadata": {
        "id": "4_jndazupLFn"
      },
      "source": [
        "5. Python program to find second largest number in a list"
      ]
    },
    {
      "cell_type": "code",
      "metadata": {
        "colab": {
          "base_uri": "https://localhost:8080/"
        },
        "id": "B2iT5BLtpOyV",
        "outputId": "bfe8b9e7-e10d-4d97-ec7e-11f630f39919"
      },
      "source": [
        "list1 = [10, 20, 4, 45, 99]\n",
        " \n",
        "mx=max(list1[0],list1[1])\n",
        "secondmax=min(list1[0],list1[1])\n",
        "n =len(list1)\n",
        "for i in range(2,n):\n",
        "    if list1[i]>mx:\n",
        "        secondmax=mx\n",
        "        mx=list1[i]\n",
        "    elif list1[i]>secondmax and \\\n",
        "        mx != list1[i]:\n",
        "        secondmax=list1[i]\n",
        " \n",
        "print(\"Second highest number is : \",\\\n",
        "      str(secondmax))"
      ],
      "execution_count": 7,
      "outputs": [
        {
          "output_type": "stream",
          "name": "stdout",
          "text": [
            "Second highest number is :  45\n"
          ]
        }
      ]
    },
    {
      "cell_type": "markdown",
      "metadata": {
        "id": "D0ig2ztnpVuQ"
      },
      "source": [
        "6. Uncommon elements in Lists of List"
      ]
    },
    {
      "cell_type": "code",
      "metadata": {
        "colab": {
          "base_uri": "https://localhost:8080/"
        },
        "id": "8Qq1RYjJpoUv",
        "outputId": "773f2fed-ab87-4798-d293-d5c9347215e7"
      },
      "source": [
        "# initializing lists\n",
        "test_list1 = [ [1, 2], [3, 4], [5, 6] ]\n",
        "test_list2 = [ [3, 4], [5, 7], [1, 2] ]\n",
        " \n",
        "# printing both lists\n",
        "print (\"The original list 1 : \" + str(test_list1))\n",
        "print (\"The original list 2 : \" + str(test_list2))\n",
        " \n",
        "# using naive method\n",
        "# Uncommon elements in List\n",
        "res_list = []\n",
        "for i in test_list1:\n",
        "    if i not in test_list2:\n",
        "        res_list.append(i)\n",
        "for i in test_list2:\n",
        "    if i not in test_list1:\n",
        "        res_list.append(i)\n",
        "         \n",
        "# printing the uncommon\n",
        "print (\"The uncommon of two lists is : \" + str(res_list))"
      ],
      "execution_count": 8,
      "outputs": [
        {
          "output_type": "stream",
          "name": "stdout",
          "text": [
            "The original list 1 : [[1, 2], [3, 4], [5, 6]]\n",
            "The original list 2 : [[3, 4], [5, 7], [1, 2]]\n",
            "The uncommon of two lists is : [[5, 6], [5, 7]]\n"
          ]
        }
      ]
    },
    {
      "cell_type": "markdown",
      "metadata": {
        "id": "7Lz8uEVwprg_"
      },
      "source": [
        "7. Count unique values inside a list"
      ]
    },
    {
      "cell_type": "code",
      "metadata": {
        "colab": {
          "base_uri": "https://localhost:8080/"
        },
        "id": "WSfHBrLGp1fI",
        "outputId": "971ce7d3-3514-49c2-c04f-8ccd6daf61fb"
      },
      "source": [
        "from collections import Counter\n",
        "  \n",
        "  \n",
        "input_list = [1, 2, 2, 5, 8, 4, 4, 8]\n",
        "  \n",
        "# creating a list with the keys\n",
        "items = Counter(input_list).keys()\n",
        "print(\"No of unique items in the list are:\", len(items))"
      ],
      "execution_count": 10,
      "outputs": [
        {
          "output_type": "stream",
          "name": "stdout",
          "text": [
            "No of unique items in the list are: 5\n"
          ]
        }
      ]
    },
    {
      "cell_type": "markdown",
      "metadata": {
        "id": "9FelOsCMqDCu"
      },
      "source": [
        "8. Python program to print all odd numbers in a range\n"
      ]
    },
    {
      "cell_type": "code",
      "metadata": {
        "colab": {
          "base_uri": "https://localhost:8080/"
        },
        "id": "9Qf1XUyDqc6I",
        "outputId": "b7cb85d1-07a1-4db6-c55d-17984d455cf3"
      },
      "source": [
        "start, end = 4, 19\n",
        "  \n",
        "# iterating each number in list\n",
        "for num in range(start, end + 1):\n",
        "      \n",
        "    # checking condition\n",
        "    if num % 2 != 0:\n",
        "        print(num, end = \" \")"
      ],
      "execution_count": 11,
      "outputs": [
        {
          "output_type": "stream",
          "name": "stdout",
          "text": [
            "5 7 9 11 13 15 17 19 "
          ]
        }
      ]
    },
    {
      "cell_type": "markdown",
      "metadata": {
        "id": "hUxNwVWIq1C_"
      },
      "source": [
        "9. Python program to print positive numbers in a list"
      ]
    },
    {
      "cell_type": "code",
      "metadata": {
        "colab": {
          "base_uri": "https://localhost:8080/"
        },
        "id": "WEPUmoK7q7G1",
        "outputId": "eb1d60e9-115c-4b89-f3dc-48ccf0fa09c6"
      },
      "source": [
        "# list of numbers\n",
        "list1 = [11, -21, 0, 45, 66, -93]\n",
        "  \n",
        "# iterating each number in list\n",
        "for num in list1:\n",
        "      \n",
        "    # checking condition\n",
        "    if num >= 0:\n",
        "       print(num, end = \" \")"
      ],
      "execution_count": 12,
      "outputs": [
        {
          "output_type": "stream",
          "name": "stdout",
          "text": [
            "11 0 45 66 "
          ]
        }
      ]
    },
    {
      "cell_type": "markdown",
      "metadata": {
        "id": "8fF6FOdMq_iQ"
      },
      "source": [
        "10. Remove multiple elements from a list in Python (odd)"
      ]
    },
    {
      "cell_type": "code",
      "metadata": {
        "colab": {
          "base_uri": "https://localhost:8080/"
        },
        "id": "1uKKcI-YrN5r",
        "outputId": "ecae555b-7e13-4f08-d779-71500bcfe7ef"
      },
      "source": [
        "# creating a list\n",
        "list1 = [11, 5, 17, 18, 23, 50]\n",
        " \n",
        "# Iterate each element in list\n",
        "# and add them in variable total\n",
        "for ele in list1:\n",
        "    if ele % 2 == 0:\n",
        "        list1.remove(ele)\n",
        " \n",
        "# printing modified list\n",
        "print(\"New list after removing all even numbers: \", list1)"
      ],
      "execution_count": 13,
      "outputs": [
        {
          "output_type": "stream",
          "name": "stdout",
          "text": [
            "New list after removing all even numbers:  [11, 5, 17, 23]\n"
          ]
        }
      ]
    }
  ]
}